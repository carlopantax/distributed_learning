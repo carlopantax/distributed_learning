{
  "cells": [
    {
      "cell_type": "markdown",
      "metadata": {
        "id": "GVqoe4cL85AQ"
      },
      "source": [
        "# Distributed Learning Project"
      ]
    },
    {
      "cell_type": "code",
      "source": [
        "!ls"
      ],
      "metadata": {
        "id": "j6_phvSW9NR8",
        "outputId": "18761bd5-b87b-43d3-bd4f-8ad26a9edca9",
        "colab": {
          "base_uri": "https://localhost:8080/"
        }
      },
      "execution_count": 2,
      "outputs": [
        {
          "output_type": "stream",
          "name": "stdout",
          "text": [
            "sample_data\n"
          ]
        }
      ]
    }
  ],
  "metadata": {
    "language_info": {
      "name": "python"
    },
    "colab": {
      "provenance": []
    },
    "kernelspec": {
      "name": "python3",
      "display_name": "Python 3"
    }
  },
  "nbformat": 4,
  "nbformat_minor": 0
}