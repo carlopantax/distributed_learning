{
  "cells": [
    {
      "cell_type": "markdown",
      "metadata": {
        "id": "GVqoe4cL85AQ"
      },
      "source": [
        "# Distributed Learning Project"
      ]
    },
    {
      "cell_type": "code",
      "source": [
        "#from google.colab import drive\n",
        "#drive.mount('/content/drive')\n",
        "#!git config --global user.email \"carlodipantaleo14@gmail.com\"\n",
        "#!git config --global user.name \"carlopantax\"\n",
        "\n",
        "#!git add .\n",
        "#!git commit -m \"Distributed Learning multiprocess, but single machine\"\n",
        "#!git push\n",
        "#!git rm --cached -r data/\n"
      ],
      "metadata": {
        "id": "j6_phvSW9NR8",
        "outputId": "4a85e497-beec-45e4-a146-b2d3a41475ce",
        "colab": {
          "base_uri": "https://localhost:8080/"
        }
      },
      "execution_count": 22,
      "outputs": [
        {
          "output_type": "stream",
          "name": "stdout",
          "text": [
            "Enumerating objects: 42, done.\n",
            "Counting objects: 100% (42/42), done.\n",
            "Delta compression using up to 2 threads\n",
            "Compressing objects: 100% (35/35), done.\n",
            "error: RPC failed; HTTP 408 curl 22 The requested URL returned error: 408\n",
            "send-pack: unexpected disconnect while reading sideband packet\n",
            "Writing objects: 100% (37/37), 325.18 MiB | 13.13 MiB/s, done.\n",
            "Total 37 (delta 9), reused 0 (delta 0), pack-reused 0\n",
            "fatal: the remote end hung up unexpectedly\n",
            "Everything up-to-date\n"
          ]
        }
      ]
    }
  ],
  "metadata": {
    "language_info": {
      "name": "python"
    },
    "colab": {
      "provenance": []
    },
    "kernelspec": {
      "name": "python3",
      "display_name": "Python 3"
    }
  },
  "nbformat": 4,
  "nbformat_minor": 0
}